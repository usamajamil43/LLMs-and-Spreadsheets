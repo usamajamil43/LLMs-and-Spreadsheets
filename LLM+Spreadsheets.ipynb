{
 "cells": [
  {
   "cell_type": "code",
   "execution_count": null,
   "metadata": {},
   "outputs": [],
   "source": [
    "import csv\n",
    "from langchain.docstore.document import Document \n",
    "from langchain.text_splitter import CharacterTextSplitter\n",
    "from langchain.embeddings import OpenAIEmbeddings\n",
    "from langchain.vectorstores import Chroma\n",
    "\n",
    "# Define the columns we want to embed vs which ones we want in metadata\n",
    "columns_to_emebd = [\"Description\",\"Features\"]\n",
    "columns_to_metadata = [\"Product Name\",\"Price\", \"Rating\",\"Description\", \"Features\"]"
   ]
  }
 ],
 "metadata": {
  "language_info": {
   "name": "python"
  },
  "orig_nbformat": 4
 },
 "nbformat": 4,
 "nbformat_minor": 2
}
